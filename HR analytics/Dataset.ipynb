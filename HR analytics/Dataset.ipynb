{
 "cells": [
  {
   "cell_type": "code",
   "execution_count": 1,
   "id": "aac04209-fafb-4217-9539-dfd0146bfea0",
   "metadata": {},
   "outputs": [],
   "source": [
    "import random\n",
    "\n",
    "# Sample data for insertion\n",
    "departments = ['Sales', 'HR', 'Finance', 'Marketing', 'IT']\n",
    "positions = ['Manager', 'Executive', 'Analyst', 'Assistant']\n",
    "genders = ['Male', 'Female']\n",
    "feedbacks = ['Exceeded expectations', 'Needs improvement', 'Met expectations', 'Outstanding performance']\n",
    "\n",
    "# Function to generate a random employee\n",
    "def generate_employee(employee_id):\n",
    "    first_name = 'Employee' + str(employee_id)\n",
    "    last_name = 'Doe' if random.random() < 0.5 else 'Smith'\n",
    "    department = random.choice(departments)\n",
    "    position = random.choice(positions)\n",
    "    age = random.randint(22, 60)\n",
    "    gender = random.choice(genders)\n",
    "    salary = random.randint(40000, 100000)\n",
    "    years_experience = random.randint(1, 20)\n",
    "    return f\"({employee_id}, '{first_name}', '{last_name}', '{department}', '{position}', {age}, '{gender}', {salary}, {years_experience})\"\n",
    "\n",
    "# Function to generate a random performance review\n",
    "def generate_performance_review(review_id, employee_id):\n",
    "    review_date = f\"2023-{random.randint(1, 12):02d}-{random.randint(1, 28):02d}\"\n",
    "    rating = random.randint(1, 5)\n",
    "    feedback = random.choice(feedbacks)\n",
    "    return f\"({review_id}, {employee_id}, '{review_date}', {rating}, '{feedback}')\"\n",
    "\n",
    "# Number of additional rows needed\n",
    "additional_rows = 495\n",
    "\n",
    "# Generate insertion queries\n",
    "employee_insert_queries = []\n",
    "performance_review_insert_queries = []\n",
    "\n",
    "for i in range(1, additional_rows + 1):\n",
    "    employee_insert_queries.append(f\"INSERT INTO Employees (EmployeeID, FirstName, LastName, Department, Position, Age, Gender, Salary, YearsExperience) VALUES {generate_employee(i)};\")\n",
    "    performance_review_insert_queries.append(f\"INSERT INTO PerformanceReviews (ReviewID, EmployeeID, ReviewDate, Rating, Feedback) VALUES {generate_performance_review(i, i)};\")\n",
    "\n",
    "# Write insertion queries to a file\n",
    "with open('additional_insert_queries.sql', 'w') as f:\n",
    "    f.write('\\n'.join(employee_insert_queries))\n",
    "    f.write('\\n')\n",
    "    f.write('\\n'.join(performance_review_insert_queries))\n"
   ]
  }
 ],
 "metadata": {
  "kernelspec": {
   "display_name": "Python 3 (ipykernel)",
   "language": "python",
   "name": "python3"
  },
  "language_info": {
   "codemirror_mode": {
    "name": "ipython",
    "version": 3
   },
   "file_extension": ".py",
   "mimetype": "text/x-python",
   "name": "python",
   "nbconvert_exporter": "python",
   "pygments_lexer": "ipython3",
   "version": "3.12.2"
  }
 },
 "nbformat": 4,
 "nbformat_minor": 5
}
